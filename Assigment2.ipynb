{
  "nbformat": 4,
  "nbformat_minor": 0,
  "metadata": {
    "colab": {
      "provenance": [],
      "authorship_tag": "ABX9TyM7utnof1LJUaH6rZIFGpZN",
      "include_colab_link": true
    },
    "kernelspec": {
      "name": "python3",
      "display_name": "Python 3"
    },
    "language_info": {
      "name": "python"
    }
  },
  "cells": [
    {
      "cell_type": "markdown",
      "metadata": {
        "id": "view-in-github",
        "colab_type": "text"
      },
      "source": [
        "<a href=\"https://colab.research.google.com/github/Manya-65/assigment1/blob/main/Assigment2.ipynb\" target=\"_parent\"><img src=\"https://colab.research.google.com/assets/colab-badge.svg\" alt=\"Open In Colab\"/></a>"
      ]
    },
    {
      "cell_type": "code",
      "metadata": {
        "id": "641c7ae7"
      },
      "source": [
        "durability_data = [1.13, 1.55, 1.43, 0.92, 1.25, 1.36, 1.32, 0.85, 1.07, 1.48, 1.20, 1.33, 1.18, 1.22, 1.29]"
      ],
      "execution_count": 1,
      "outputs": []
    },
    {
      "cell_type": "code",
      "metadata": {
        "colab": {
          "base_uri": "https://localhost:8080/"
        },
        "id": "9ff18b81",
        "outputId": "83c06817-6fa6-40f9-8d9e-bf02f59fb418"
      },
      "source": [
        "import numpy as np\n",
        "from scipy import stats\n",
        "\n",
        "durability_data = [1.13, 1.55, 1.43, 0.92, 1.25, 1.36, 1.32, 0.85, 1.07, 1.48, 1.20, 1.33, 1.18, 1.22, 1.29]\n",
        "\n",
        "# Calculate the sample mean\n",
        "sample_mean = np.mean(durability_data)\n",
        "\n",
        "# Calculate the sample standard deviation (unbiased estimator)\n",
        "sample_std = np.std(durability_data, ddof=1)\n",
        "\n",
        "# Calculate the sample size\n",
        "sample_size = len(durability_data)\n",
        "\n",
        "# Calculate the standard error of the mean\n",
        "standard_error = sample_std / np.sqrt(sample_size)\n",
        "\n",
        "# Determine the degrees of freedom\n",
        "degrees_of_freedom = sample_size - 1\n",
        "\n",
        "# Find the critical t-value for a 99% confidence level\n",
        "confidence_level = 0.99\n",
        "alpha = 1 - confidence_level\n",
        "critical_t_value = stats.t.ppf(1 - alpha/2, degrees_of_freedom)\n",
        "\n",
        "# Calculate the margin of error\n",
        "margin_of_error = critical_t_value * standard_error\n",
        "\n",
        "# Calculate the confidence interval\n",
        "lower_bound = sample_mean - margin_of_error\n",
        "upper_bound = sample_mean + margin_of_error\n",
        "\n",
        "print(f\"Sample Mean: {sample_mean:.4f}\")\n",
        "print(f\"Sample Standard Deviation: {sample_std:.4f}\")\n",
        "print(f\"Standard Error: {standard_error:.4f}\")\n",
        "print(f\"Degrees of Freedom: {degrees_of_freedom}\")\n",
        "print(f\"Critical t-value: {critical_t_value:.4f}\")\n",
        "print(f\"Margin of Error: {margin_of_error:.4f}\")\n",
        "print(f\"99% Confidence Interval (t-distribution): ({lower_bound:.4f}, {upper_bound:.4f})\")\n",
        "\n",
        "# Explanation of why t-distribution is used\n",
        "print(\"\\nExplanation:\")\n",
        "print(\"The t-distribution is used because the population standard deviation is unknown and we are using the sample standard deviation as an estimate. Additionally, the sample size (n=15) is relatively small (typically n < 30 is considered small for this purpose), which makes the t-distribution more appropriate than the z-distribution.\")"
      ],
      "execution_count": 2,
      "outputs": [
        {
          "output_type": "stream",
          "name": "stdout",
          "text": [
            "Sample Mean: 1.2387\n",
            "Sample Standard Deviation: 0.1932\n",
            "Standard Error: 0.0499\n",
            "Degrees of Freedom: 14\n",
            "Critical t-value: 2.9768\n",
            "Margin of Error: 0.1485\n",
            "99% Confidence Interval (t-distribution): (1.0902, 1.3871)\n",
            "\n",
            "Explanation:\n",
            "The t-distribution is used because the population standard deviation is unknown and we are using the sample standard deviation as an estimate. Additionally, the sample size (n=15) is relatively small (typically n < 30 is considered small for this purpose), which makes the t-distribution more appropriate than the z-distribution.\n"
          ]
        }
      ]
    },
    {
      "cell_type": "code",
      "metadata": {
        "colab": {
          "base_uri": "https://localhost:8080/"
        },
        "id": "a372636e",
        "outputId": "23f497f3-0aaf-4de0-d926-180e2e1d97c4"
      },
      "source": [
        "import numpy as np\n",
        "from scipy import stats\n",
        "\n",
        "durability_data = [1.13, 1.55, 1.43, 0.92, 1.25, 1.36, 1.32, 0.85, 1.07, 1.48, 1.20, 1.33, 1.18, 1.22, 1.29]\n",
        "\n",
        "# Define the known population standard deviation\n",
        "population_std = 0.2\n",
        "\n",
        "# Calculate the sample mean\n",
        "sample_mean = np.mean(durability_data)\n",
        "\n",
        "# Calculate the sample size\n",
        "sample_size = len(durability_data)\n",
        "\n",
        "# Calculate the standard error of the mean using the known population standard deviation\n",
        "standard_error_z = population_std / np.sqrt(sample_size)\n",
        "\n",
        "print(f\"Sample Mean: {sample_mean:.4f}\")\n",
        "print(f\"Population Standard Deviation: {population_std:.4f}\")\n",
        "print(f\"Sample Size: {sample_size}\")\n",
        "print(f\"Standard Error (z-distribution): {standard_error_z:.4f}\")"
      ],
      "execution_count": 3,
      "outputs": [
        {
          "output_type": "stream",
          "name": "stdout",
          "text": [
            "Sample Mean: 1.2387\n",
            "Population Standard Deviation: 0.2000\n",
            "Sample Size: 15\n",
            "Standard Error (z-distribution): 0.0516\n"
          ]
        }
      ]
    },
    {
      "cell_type": "code",
      "metadata": {
        "colab": {
          "base_uri": "https://localhost:8080/"
        },
        "id": "039de3b5",
        "outputId": "3e27c935-804f-4be3-867a-9ea0f9b3c488"
      },
      "source": [
        "# Determine the critical z-value for a 99% confidence level\n",
        "confidence_level = 0.99\n",
        "alpha = 1 - confidence_level\n",
        "critical_z_value = stats.norm.ppf(1 - alpha/2)\n",
        "\n",
        "# Calculate the margin of error\n",
        "margin_of_error_z = critical_z_value * standard_error_z\n",
        "\n",
        "# Calculate the confidence interval\n",
        "lower_bound_z = sample_mean - margin_of_error_z\n",
        "upper_bound_z = sample_mean + margin_of_error_z\n",
        "\n",
        "print(f\"Critical z-value: {critical_z_value:.4f}\")\n",
        "print(f\"Margin of Error (z-distribution): {margin_of_error_z:.4f}\")\n",
        "print(f\"99% Confidence Interval (z-distribution): ({lower_bound_z:.4f}, {upper_bound_z:.4f})\")"
      ],
      "execution_count": 4,
      "outputs": [
        {
          "output_type": "stream",
          "name": "stdout",
          "text": [
            "Critical z-value: 2.5758\n",
            "Margin of Error (z-distribution): 0.1330\n",
            "99% Confidence Interval (z-distribution): (1.1057, 1.3717)\n"
          ]
        }
      ]
    },
    {
      "cell_type": "code",
      "metadata": {
        "colab": {
          "base_uri": "https://localhost:8080/"
        },
        "id": "0b6e5019",
        "outputId": "4e3d1ed0-1c3d-4e63-b407-936bbb27270d"
      },
      "source": [
        "# Confidence interval using sample standard deviation (t-distribution)\n",
        "lower_bound_t = 1.0902\n",
        "upper_bound_t = 1.3871\n",
        "\n",
        "print(\"Confidence Interval using Sample Standard Deviation (t-distribution):\")\n",
        "print(f\"99% Confidence Interval: ({lower_bound_t:.4f}, {upper_bound_t:.4f})\")\n",
        "print(\"\\nExplanation for using the t-distribution:\")\n",
        "print(\"The t-distribution was used because the population standard deviation is unknown, and we are using the sample standard deviation to estimate it. Additionally, the sample size (n=15) is small, making the t-distribution more appropriate than the z-distribution.\")\n",
        "\n",
        "# Confidence interval using known population standard deviation (z-distribution)\n",
        "lower_bound_z = 1.1057\n",
        "upper_bound_z = 1.3717\n",
        "\n",
        "print(\"\\nConfidence Interval using Known Population Standard Deviation (z-distribution):\")\n",
        "print(f\"99% Confidence Interval: ({lower_bound_z:.4f}, {upper_bound_z:.4f})\")\n",
        "\n",
        "# Comparison of the two intervals\n",
        "print(\"\\nComparison of Confidence Intervals:\")\n",
        "print(f\"t-distribution interval: ({lower_bound_t:.4f}, {upper_bound_t:.4f})\")\n",
        "print(f\"z-distribution interval: ({lower_bound_z:.4f}, {upper_bound_z:.4f})\")\n",
        "print(\"\\nThe confidence interval calculated using the t-distribution is slightly wider than the interval calculated using the z-distribution. This is expected because the t-distribution accounts for the additional uncertainty introduced by estimating the population standard deviation from a small sample. The critical t-value (2.9768) is larger than the critical z-value (2.5758), resulting in a larger margin of error for the t-distribution calculation.\")"
      ],
      "execution_count": 5,
      "outputs": [
        {
          "output_type": "stream",
          "name": "stdout",
          "text": [
            "Confidence Interval using Sample Standard Deviation (t-distribution):\n",
            "99% Confidence Interval: (1.0902, 1.3871)\n",
            "\n",
            "Explanation for using the t-distribution:\n",
            "The t-distribution was used because the population standard deviation is unknown, and we are using the sample standard deviation to estimate it. Additionally, the sample size (n=15) is small, making the t-distribution more appropriate than the z-distribution.\n",
            "\n",
            "Confidence Interval using Known Population Standard Deviation (z-distribution):\n",
            "99% Confidence Interval: (1.1057, 1.3717)\n",
            "\n",
            "Comparison of Confidence Intervals:\n",
            "t-distribution interval: (1.0902, 1.3871)\n",
            "z-distribution interval: (1.1057, 1.3717)\n",
            "\n",
            "The confidence interval calculated using the t-distribution is slightly wider than the interval calculated using the z-distribution. This is expected because the t-distribution accounts for the additional uncertainty introduced by estimating the population standard deviation from a small sample. The critical t-value (2.9768) is larger than the critical z-value (2.5758), resulting in a larger margin of error for the t-distribution calculation.\n"
          ]
        }
      ]
    }
  ]
}