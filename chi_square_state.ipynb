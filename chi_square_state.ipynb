{
  "nbformat": 4,
  "nbformat_minor": 0,
  "metadata": {
    "colab": {
      "provenance": [],
      "authorship_tag": "ABX9TyNKCfWY5mRubWMIHqYcPEw5",
      "include_colab_link": true
    },
    "kernelspec": {
      "name": "python3",
      "display_name": "Python 3"
    },
    "language_info": {
      "name": "python"
    }
  },
  "cells": [
    {
      "cell_type": "markdown",
      "metadata": {
        "id": "view-in-github",
        "colab_type": "text"
      },
      "source": [
        "<a href=\"https://colab.research.google.com/github/Manya-65/assigment1/blob/main/chi_square_state.ipynb\" target=\"_parent\"><img src=\"https://colab.research.google.com/assets/colab-badge.svg\" alt=\"Open In Colab\"/></a>"
      ]
    },
    {
      "cell_type": "code",
      "execution_count": null,
      "metadata": {
        "colab": {
          "base_uri": "https://localhost:8080/"
        },
        "id": "UI64nDld6Hex",
        "outputId": "09af84bf-404c-4433-9360-bb5e2652d811"
      },
      "outputs": [
        {
          "output_type": "stream",
          "name": "stdout",
          "text": [
            "1. State the Hypotheses:\n",
            "Null Hypothesis (H0): There is no significant association between the type of smart home device and customer satisfaction level.\n",
            "Alternative Hypothesis (H1): There is a significant association between the type of smart home device and customer satisfaction level.\n",
            "------------------------------\n"
          ]
        }
      ],
      "source": [
        "import numpy as np\n",
        "from scipy.stats import chi2_contingency, chi2\n",
        "\n",
        "# 1. State the Hypotheses:\n",
        "print(\"1. State the Hypotheses:\")\n",
        "print(\"Null Hypothesis (H0): There is no significant association between the type of smart home device and customer satisfaction level.\")\n",
        "print(\"Alternative Hypothesis (H1): There is a significant association between the type of smart home device and customer satisfaction level.\")\n",
        "print(\"-\" * 30)\n",
        "\n",
        "# Data provided in the contingency table\n",
        "observed_data = np.array([[50, 70],\n",
        "                          [80, 100],\n",
        "                          [60, 90],\n",
        "                          [30, 50],\n",
        "                          [20, 50]])"
      ]
    },
    {
      "cell_type": "code",
      "source": [
        "#2.Compute the Chi-Square Statistic:\n",
        "chi2_statistic, p_value, dof, expected = chi2_contingency(observed_data)\n",
        "print(\"2. Compute the Chi-Square Statistic:\")\n",
        "print(f\"Chi-Square Statistic: {chi2_statistic:.4f}\")\n",
        "print(f\"P-value: {p_value:.4f}\")\n",
        "print(f\"Degrees of Freedom: {dof}\")\n",
        "# print(\"Expected Frequencies:\")\n",
        "# print(expected)\n",
        "print(\"-\" * 30)"
      ],
      "metadata": {
        "colab": {
          "base_uri": "https://localhost:8080/"
        },
        "id": "gWqQ4seq6lOS",
        "outputId": "af7aea83-cad0-4db1-c61c-39141dd17dd0"
      },
      "execution_count": null,
      "outputs": [
        {
          "output_type": "stream",
          "name": "stdout",
          "text": [
            "2. Compute the Chi-Square Statistic:\n",
            "Chi-Square Statistic: 5.6382\n",
            "P-value: 0.2278\n",
            "Degrees of Freedom: 4\n",
            "------------------------------\n"
          ]
        }
      ]
    },
    {
      "cell_type": "code",
      "source": [
        "# 3. Determine the Critical Value:\n",
        "alpha = 0.05\n",
        "critical_value = chi2.ppf(1 - alpha, dof)\n",
        "print(\"3. Determine the Critical Value:\")\n",
        "print(f\"Significance Level (alpha): {alpha}\")\n",
        "print(f\"Critical Value: {critical_value:.4f}\")\n",
        "print(\"-\" * 30)"
      ],
      "metadata": {
        "colab": {
          "base_uri": "https://localhost:8080/"
        },
        "id": "I067wgIq6tMI",
        "outputId": "88dac747-06b1-4573-b530-2dc50caf59a5"
      },
      "execution_count": null,
      "outputs": [
        {
          "output_type": "stream",
          "name": "stdout",
          "text": [
            "3. Determine the Critical Value:\n",
            "Significance Level (alpha): 0.05\n",
            "Critical Value: 9.4877\n",
            "------------------------------\n"
          ]
        }
      ]
    },
    {
      "cell_type": "code",
      "source": [
        " #4. Make a Decision:\n",
        "print(\"4. Make a Decision:\")\n",
        "if chi2_statistic > critical_value:\n",
        "    print(f\"Since the Chi-Square statistic ({chi2_statistic:.4f}) is greater than the critical value ({critical_value:.4f}), we reject the null hypothesis.\")\n",
        "    print(\"Conclusion: There is a significant association between the type of smart home device and customer satisfaction level.\")\n",
        "else:\n",
        "    print(f\"Since the Chi-Square statistic ({chi2_statistic:.4f}) is less than or equal to the critical value ({critical_value:.4f}), we fail to reject the null hypothesis.\")\n",
        "    print(\"Conclusion: There is no significant association between the type of smart home device and customer satisfaction level.\")"
      ],
      "metadata": {
        "colab": {
          "base_uri": "https://localhost:8080/"
        },
        "id": "rs08zjwc6x01",
        "outputId": "39327551-98d1-48a6-d25e-50f7051849fc"
      },
      "execution_count": null,
      "outputs": [
        {
          "output_type": "stream",
          "name": "stdout",
          "text": [
            "4. Make a Decision:\n",
            "Since the Chi-Square statistic (5.6382) is less than or equal to the critical value (9.4877), we fail to reject the null hypothesis.\n",
            "Conclusion: There is no significant association between the type of smart home device and customer satisfaction level.\n"
          ]
        }
      ]
    },
    {
      "cell_type": "code",
      "source": [],
      "metadata": {
        "id": "u_2iDd-O60j_"
      },
      "execution_count": null,
      "outputs": []
    }
  ]
}