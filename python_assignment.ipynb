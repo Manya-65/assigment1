{
  "nbformat": 4,
  "nbformat_minor": 0,
  "metadata": {
    "colab": {
      "provenance": [],
      "authorship_tag": "ABX9TyPEGC5XVvuEuIPZ71iHE/vc",
      "include_colab_link": true
    },
    "kernelspec": {
      "name": "python3",
      "display_name": "Python 3"
    },
    "language_info": {
      "name": "python"
    }
  },
  "cells": [
    {
      "cell_type": "markdown",
      "metadata": {
        "id": "view-in-github",
        "colab_type": "text"
      },
      "source": [
        "<a href=\"https://colab.research.google.com/github/Manya-65/assigment1/blob/main/python_assignment.ipynb\" target=\"_parent\"><img src=\"https://colab.research.google.com/assets/colab-badge.svg\" alt=\"Open In Colab\"/></a>"
      ]
    },
    {
      "cell_type": "code",
      "metadata": {
        "colab": {
          "base_uri": "https://localhost:8080/"
        },
        "id": "a74afbf5",
        "outputId": "8fad276e-c619-47a0-de65-df50ec7adfd0"
      },
      "source": [
        "# 1. Create a list of 5 integers. Perform and print the result of the following operations: append, extend, insert, remove, pop, clear, index, count, sort, and reverse.\n",
        "\n",
        "# Create a list\n",
        "my_list = [10, 20, 30, 40, 50]\n",
        "print(\"Original list:\", my_list)\n",
        "\n",
        "# append\n",
        "my_list.append(60)\n",
        "print(\"After append(60):\", my_list)\n",
        "\n",
        "# extend\n",
        "my_list.extend([70, 80])\n",
        "print(\"After extend([70, 80]):\", my_list)\n",
        "\n",
        "# insert\n",
        "my_list.insert(2, 25)\n",
        "print(\"After insert(2, 25):\", my_list)\n",
        "\n",
        "# remove\n",
        "my_list.remove(40)\n",
        "print(\"After remove(40):\", my_list)\n",
        "\n",
        "# pop\n",
        "popped_element = my_list.pop()\n",
        "print(\"After pop():\", my_list)\n",
        "print(\"Popped element:\", popped_element)\n",
        "\n",
        "# clear\n",
        "# my_list.clear()\n",
        "# print(\"After clear():\", my_list)\n",
        "\n",
        "# index\n",
        "index_of_30 = my_list.index(30)\n",
        "print(\"Index of 30:\", index_of_30)\n",
        "\n",
        "# count\n",
        "count_of_20 = my_list.count(20)\n",
        "print(\"Count of 20:\", count_of_20)\n",
        "\n",
        "# sort\n",
        "my_list.sort()\n",
        "print(\"After sort():\", my_list)\n",
        "\n",
        "# reverse\n",
        "my_list.reverse()\n",
        "print(\"After reverse():\", my_list)"
      ],
      "execution_count": 2,
      "outputs": [
        {
          "output_type": "stream",
          "name": "stdout",
          "text": [
            "Original list: [10, 20, 30, 40, 50]\n",
            "After append(60): [10, 20, 30, 40, 50, 60]\n",
            "After extend([70, 80]): [10, 20, 30, 40, 50, 60, 70, 80]\n",
            "After insert(2, 25): [10, 20, 25, 30, 40, 50, 60, 70, 80]\n",
            "After remove(40): [10, 20, 25, 30, 50, 60, 70, 80]\n",
            "After pop(): [10, 20, 25, 30, 50, 60, 70]\n",
            "Popped element: 80\n",
            "Index of 30: 3\n",
            "Count of 20: 1\n",
            "After sort(): [10, 20, 25, 30, 50, 60, 70]\n",
            "After reverse(): [70, 60, 50, 30, 25, 20, 10]\n"
          ]
        }
      ]
    },
    {
      "cell_type": "code",
      "metadata": {
        "colab": {
          "base_uri": "https://localhost:8080/"
        },
        "id": "59f09f59",
        "outputId": "2b7d06ae-9249-4dc0-d7db-75c52b1cf865"
      },
      "source": [
        "# 2. Create a tuple that stores 3 student names. Try changing the second name in the tuple. What happens? Explain why.\n",
        "\n",
        "# Create a tuple of student names\n",
        "student_names = (\"Alice\", \"Bob\", \"Charlie\")\n",
        "print(\"Original tuple:\", student_names)\n",
        "\n",
        "# Try changing the second name (this will cause an error)\n",
        "try:\n",
        "  student_names[1] = \"David\"\n",
        "except TypeError as e:\n",
        "  print(\"\\nError:\", e)\n",
        "  print(\"Explanation: Tuples are immutable, meaning their elements cannot be changed after creation.\")"
      ],
      "execution_count": 3,
      "outputs": [
        {
          "output_type": "stream",
          "name": "stdout",
          "text": [
            "Original tuple: ('Alice', 'Bob', 'Charlie')\n",
            "\n",
            "Error: 'tuple' object does not support item assignment\n",
            "Explanation: Tuples are immutable, meaning their elements cannot be changed after creation.\n"
          ]
        }
      ]
    },
    {
      "cell_type": "code",
      "metadata": {
        "colab": {
          "base_uri": "https://localhost:8080/"
        },
        "id": "e909a62f",
        "outputId": "f486075b-aa59-4e25-e439-a931a9ca4357"
      },
      "source": [
        "# 3. Create a set of integers with some duplicate values. Print the set and explain the output.\n",
        "\n",
        "# Create a set with duplicate values\n",
        "my_set = {1, 2, 3, 2, 4, 5, 1, 3}\n",
        "print(\"Original set with duplicates:\", my_set)\n",
        "\n",
        "# Explanation: Sets automatically remove duplicate values.\n",
        "print(\"Explanation: Sets store only unique elements. Duplicate values are automatically discarded.\")"
      ],
      "execution_count": 4,
      "outputs": [
        {
          "output_type": "stream",
          "name": "stdout",
          "text": [
            "Original set with duplicates: {1, 2, 3, 4, 5}\n",
            "Explanation: Sets store only unique elements. Duplicate values are automatically discarded.\n"
          ]
        }
      ]
    }
  ]
}