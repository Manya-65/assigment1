{
  "nbformat": 4,
  "nbformat_minor": 0,
  "metadata": {
    "colab": {
      "provenance": [],
      "authorship_tag": "ABX9TyPN5rWWEe7G0E/+H5HtXkl3",
      "include_colab_link": true
    },
    "kernelspec": {
      "name": "python3",
      "display_name": "Python 3"
    },
    "language_info": {
      "name": "python"
    }
  },
  "cells": [
    {
      "cell_type": "markdown",
      "metadata": {
        "id": "view-in-github",
        "colab_type": "text"
      },
      "source": [
        "<a href=\"https://colab.research.google.com/github/Manya-65/assigment1/blob/main/Assigment4(hyptho).ipynb\" target=\"_parent\"><img src=\"https://colab.research.google.com/assets/colab-badge.svg\" alt=\"Open In Colab\"/></a>"
      ]
    },
    {
      "cell_type": "code",
      "metadata": {
        "colab": {
          "base_uri": "https://localhost:8080/"
        },
        "id": "29349184",
        "outputId": "f9ac11c3-1a68-4b1e-b9a1-aa252b828851"
      },
      "source": [
        "# Define the null hypothesis (H0)\n",
        "null_hypothesis = \"H0: The mean weekly operating cost for Bombay hospitality Ltd. franchises is equal to or less than the theoretical model suggests (μ <= Theoretical Mean).\"\n",
        "\n",
        "# Define the alternative hypothesis (H1) for a one-tailed test\n",
        "alternative_hypothesis = \"H1: The mean weekly operating cost for Bombay hospitality Ltd. franchises is higher than the theoretical model suggests (μ > Theoretical Mean).\"\n",
        "\n",
        "print(null_hypothesis)\n",
        "print(alternative_hypothesis)"
      ],
      "execution_count": null,
      "outputs": [
        {
          "output_type": "stream",
          "name": "stdout",
          "text": [
            "H0: The mean weekly operating cost for Bombay hospitality Ltd. franchises is equal to or less than the theoretical model suggests (μ <= Theoretical Mean).\n",
            "H1: The mean weekly operating cost for Bombay hospitality Ltd. franchises is higher than the theoretical model suggests (μ > Theoretical Mean).\n"
          ]
        }
      ]
    },
    {
      "cell_type": "code",
      "metadata": {
        "colab": {
          "base_uri": "https://localhost:8080/"
        },
        "id": "1f610931",
        "outputId": "21dc2fe7-b846-4838-897e-08b1f884a76f"
      },
      "source": [
        "# Define the given values for the cost model\n",
        "constant_term = 1000\n",
        "coefficient_x = 5\n",
        "\n",
        "# Define the mean number of units produced\n",
        "mean_x = 600\n",
        "\n",
        "# Calculate the theoretical mean weekly cost (μ)\n",
        "theoretical_mean = constant_term + coefficient_x * mean_x\n",
        "\n",
        "# Store the calculated theoretical mean cost in a variable (already done in the calculation step)\n",
        "print(f\"The theoretical mean weekly cost (μ) is: Rs. {theoretical_mean}\")"
      ],
      "execution_count": null,
      "outputs": [
        {
          "output_type": "stream",
          "name": "stdout",
          "text": [
            "The theoretical mean weekly cost (μ) is: Rs. 4000\n"
          ]
        }
      ]
    },
    {
      "cell_type": "code",
      "metadata": {
        "colab": {
          "base_uri": "https://localhost:8080/"
        },
        "id": "c4397c49",
        "outputId": "9ac1897b-f387-4eea-c2a8-4f685872ccf9"
      },
      "source": [
        "import numpy as np\n",
        "\n",
        "# Define the sample mean weekly cost\n",
        "sample_mean = 3050\n",
        "\n",
        "# Define the sample size\n",
        "n = 25\n",
        "\n",
        "# Define the standard deviation of X\n",
        "std_dev_x = 25\n",
        "\n",
        "# Calculate the standard deviation of the cost (sigma)\n",
        "sigma = coefficient_x * std_dev_x\n",
        "\n",
        "# Calculate the test statistic (t)\n",
        "t = (sample_mean - theoretical_mean) / (sigma / np.sqrt(n))\n",
        "\n",
        "# Print the calculated test statistic\n",
        "print(f\"The calculated test statistic (t) is: {t}\")"
      ],
      "execution_count": null,
      "outputs": [
        {
          "output_type": "stream",
          "name": "stdout",
          "text": [
            "The calculated test statistic (t) is: -38.0\n"
          ]
        }
      ]
    },
    {
      "cell_type": "code",
      "metadata": {
        "colab": {
          "base_uri": "https://localhost:8080/"
        },
        "id": "248adb37",
        "outputId": "792c2e13-0eae-4eb3-a1bd-7f4a119afe8e"
      },
      "source": [
        "from scipy.stats import norm\n",
        "\n",
        "# Define the alpha level\n",
        "alpha = 0.05\n",
        "\n",
        "# Calculate the critical Z-value for a one-tailed test (upper tail)\n",
        "critical_z_value = norm.ppf(1 - alpha)\n",
        "\n",
        "# Print the calculated critical Z-value\n",
        "print(f\"The critical Z-value for a one-tailed test at alpha = {alpha} is: {critical_z_value}\")"
      ],
      "execution_count": null,
      "outputs": [
        {
          "output_type": "stream",
          "name": "stdout",
          "text": [
            "The critical Z-value for a one-tailed test at alpha = 0.05 is: 1.6448536269514722\n"
          ]
        }
      ]
    },
    {
      "cell_type": "code",
      "metadata": {
        "colab": {
          "base_uri": "https://localhost:8080/"
        },
        "id": "c71b5afb",
        "outputId": "a99a5d04-6e7d-4612-cf6b-b634f8ea3fb7"
      },
      "source": [
        "# Compare the test statistic with the critical Z-value\n",
        "if t > critical_z_value:\n",
        "    print(\"The test statistic falls in the rejection region.\")\n",
        "    print(\"Decision: Reject the null hypothesis.\")\n",
        "else:\n",
        "    print(\"The test statistic does not fall in the rejection region.\")\n",
        "    print(\"Decision: Do not reject the null hypothesis.\")"
      ],
      "execution_count": null,
      "outputs": [
        {
          "output_type": "stream",
          "name": "stdout",
          "text": [
            "The test statistic does not fall in the rejection region.\n",
            "Decision: Do not reject the null hypothesis.\n"
          ]
        }
      ]
    },
    {
      "cell_type": "code",
      "metadata": {
        "colab": {
          "base_uri": "https://localhost:8080/"
        },
        "id": "d2f1f049",
        "outputId": "27aa0b92-e3f2-4810-d38d-8c4b45e25b3a"
      },
      "source": [
        "# Based on the decision to not reject the null hypothesis\n",
        "# Formulate the conclusion regarding the restaurant owners' claim\n",
        "\n",
        "conclusion = (\n",
        "    \"Conclusion: Based on the hypothesis test, since the null hypothesis (H0) was not rejected \"\n",
        "    \"at the {alpha} significance level, there is not enough statistical evidence to support \"\n",
        "    \"the restaurant owners' claim that the weekly operating costs for Bombay hospitality Ltd. \"\n",
        "    \"franchises are higher than the theoretical model suggests. \"\n",
        "    \"The calculated test statistic ({t:.3f}) does not fall into the rejection region defined by the critical Z-value ({critical_z_value:.3f}).\"\n",
        ").format(alpha=alpha, t=t, critical_z_value=critical_z_value)\n",
        "\n",
        "print(conclusion)"
      ],
      "execution_count": null,
      "outputs": [
        {
          "output_type": "stream",
          "name": "stdout",
          "text": [
            "Conclusion: Based on the hypothesis test, since the null hypothesis (H0) was not rejected at the 0.05 significance level, there is not enough statistical evidence to support the restaurant owners' claim that the weekly operating costs for Bombay hospitality Ltd. franchises are higher than the theoretical model suggests. The calculated test statistic (-38.000) does not fall into the rejection region defined by the critical Z-value (1.645).\n"
          ]
        }
      ]
    }
  ]
}