{
  "nbformat": 4,
  "nbformat_minor": 0,
  "metadata": {
    "colab": {
      "provenance": [],
      "authorship_tag": "ABX9TyOx2wOOJ7AA246y437EUqlM",
      "include_colab_link": true
    },
    "kernelspec": {
      "name": "python3",
      "display_name": "Python 3"
    },
    "language_info": {
      "name": "python"
    }
  },
  "cells": [
    {
      "cell_type": "markdown",
      "metadata": {
        "id": "view-in-github",
        "colab_type": "text"
      },
      "source": [
        "<a href=\"https://colab.research.google.com/github/Manya-65/assigment1/blob/main/Assigment3.ipynb\" target=\"_parent\"><img src=\"https://colab.research.google.com/assets/colab-badge.svg\" alt=\"Open In Colab\"/></a>"
      ]
    },
    {
      "cell_type": "code",
      "execution_count": null,
      "metadata": {
        "id": "iknRNjB7TUct"
      },
      "outputs": [],
      "source": []
    },
    {
      "cell_type": "code",
      "metadata": {
        "colab": {
          "base_uri": "https://localhost:8080/"
        },
        "id": "b524f406",
        "outputId": "7b884a00-90be-4afc-e7ea-4e491b7c7052"
      },
      "source": [
        "def is_prime(number):\n",
        "    \"\"\"Checks if a given number is prime.\"\"\"\n",
        "    if number <= 1:\n",
        "        return False  # Numbers less than or equal to 1 are not prime\n",
        "    for i in range(2, int(number**0.5) + 1):\n",
        "        if number % i == 0:\n",
        "            return False  # If divisible by any number other than 1 and itself, it's not prime\n",
        "    return True  # Otherwise, it's prime\n",
        "\n",
        "# Get input from the user\n",
        "num = int(input(\"Enter a number: \"))\n",
        "\n",
        "# Check if the number is prime and print the result\n",
        "if is_prime(num):\n",
        "    print(f\"{num} is a prime number.\")\n",
        "else:\n",
        "    print(f\"{num} is not a prime number.\")"
      ],
      "execution_count": 2,
      "outputs": [
        {
          "output_type": "stream",
          "name": "stdout",
          "text": [
            "Enter a number: 4\n",
            "4 is not a prime number.\n"
          ]
        }
      ]
    },
    {
      "cell_type": "code",
      "source": [
        "import random\n",
        "\n",
        "# Generate two random numbers\n",
        "num1 = random.randint(1, 10)\n",
        "num2 = random.randint(1, 10)\n",
        "\n",
        "# Calculate the correct product\n",
        "correct_product = num1 * num2\n",
        "\n",
        "# Ask the user for the product\n",
        "user_answer = int(input(f\"What is the product of {num1} and {num2}? \"))\n",
        "\n",
        "# Check if the user's answer is correct\n",
        "if user_answer == correct_product:\n",
        "    print(\"Correct!\")\n",
        "else:\n",
        "    print(f\"Incorrect. The correct product is {correct_product}.\")\n",
        ""
      ],
      "metadata": {
        "colab": {
          "base_uri": "https://localhost:8080/"
        },
        "id": "-l0H4de3TqYh",
        "outputId": "61c9c2b3-261f-489e-b4e9-75debb3ebc06"
      },
      "execution_count": 5,
      "outputs": [
        {
          "output_type": "stream",
          "name": "stdout",
          "text": [
            "What is the product of 4 and 2? 8\n",
            "Correct!\n"
          ]
        }
      ]
    },
    {
      "cell_type": "code",
      "source": [
        "# Exercise 3: Squares of Even/Odd Numbers\n",
        "\n",
        "# This script will print the squares of all EVEN numbers within the range of 100 to 200.\n",
        "\n",
        "print(\"Printing squares of even numbers between 100 and 200:\")\n",
        "\n",
        "for number in range(100, 201):\n",
        "  # Check if the number is even\n",
        "  if number % 2 == 0:\n",
        "    square = number ** 2\n",
        "    print(f\"The square of {number} is {square}\")"
      ],
      "metadata": {
        "colab": {
          "base_uri": "https://localhost:8080/"
        },
        "id": "9FAJDPGHUMxy",
        "outputId": "f8143230-1f88-4100-9309-ec7f373369f7"
      },
      "execution_count": 6,
      "outputs": [
        {
          "output_type": "stream",
          "name": "stdout",
          "text": [
            "Printing squares of even numbers between 100 and 200:\n",
            "The square of 100 is 10000\n",
            "The square of 102 is 10404\n",
            "The square of 104 is 10816\n",
            "The square of 106 is 11236\n",
            "The square of 108 is 11664\n",
            "The square of 110 is 12100\n",
            "The square of 112 is 12544\n",
            "The square of 114 is 12996\n",
            "The square of 116 is 13456\n",
            "The square of 118 is 13924\n",
            "The square of 120 is 14400\n",
            "The square of 122 is 14884\n",
            "The square of 124 is 15376\n",
            "The square of 126 is 15876\n",
            "The square of 128 is 16384\n",
            "The square of 130 is 16900\n",
            "The square of 132 is 17424\n",
            "The square of 134 is 17956\n",
            "The square of 136 is 18496\n",
            "The square of 138 is 19044\n",
            "The square of 140 is 19600\n",
            "The square of 142 is 20164\n",
            "The square of 144 is 20736\n",
            "The square of 146 is 21316\n",
            "The square of 148 is 21904\n",
            "The square of 150 is 22500\n",
            "The square of 152 is 23104\n",
            "The square of 154 is 23716\n",
            "The square of 156 is 24336\n",
            "The square of 158 is 24964\n",
            "The square of 160 is 25600\n",
            "The square of 162 is 26244\n",
            "The square of 164 is 26896\n",
            "The square of 166 is 27556\n",
            "The square of 168 is 28224\n",
            "The square of 170 is 28900\n",
            "The square of 172 is 29584\n",
            "The square of 174 is 30276\n",
            "The square of 176 is 30976\n",
            "The square of 178 is 31684\n",
            "The square of 180 is 32400\n",
            "The square of 182 is 33124\n",
            "The square of 184 is 33856\n",
            "The square of 186 is 34596\n",
            "The square of 188 is 35344\n",
            "The square of 190 is 36100\n",
            "The square of 192 is 36864\n",
            "The square of 194 is 37636\n",
            "The square of 196 is 38416\n",
            "The square of 198 is 39204\n",
            "The square of 200 is 40000\n"
          ]
        }
      ]
    },
    {
      "cell_type": "code",
      "source": [
        "# Exercise 4: Word Counter (with frequency)\n",
        "\n",
        "input_text = \"This is a sample text. This text will be used to demonstrate the word counter.\"\n",
        "\n",
        "# Split the text into words using whitespace as the delimiter\n",
        "words = input_text.split()\n",
        "\n",
        "# Create an empty dictionary to store word counts\n",
        "word_frequency = {}\n",
        "\n",
        "# Iterate through the list of words and count the frequency of each word\n",
        "for word in words:\n",
        "  # Remove punctuation if necessary (optional, depending on desired output)\n",
        "  # word = word.strip('.,!?\"\\'').lower() # Example of removing punctuation and converting to lowercase\n",
        "  word_frequency[word] = word_frequency.get(word, 0) + 1\n",
        "\n",
        "# Print the word frequency\n",
        "for word, count in word_frequency.items():\n",
        "  print(f\"'{word}': {count}\")"
      ],
      "metadata": {
        "colab": {
          "base_uri": "https://localhost:8080/"
        },
        "id": "CWNUHZ9HVBJj",
        "outputId": "72594a26-7fb0-45fd-8a9a-b414ab84a63e"
      },
      "execution_count": 8,
      "outputs": [
        {
          "output_type": "stream",
          "name": "stdout",
          "text": [
            "'This': 2\n",
            "'is': 1\n",
            "'a': 1\n",
            "'sample': 1\n",
            "'text.': 1\n",
            "'text': 1\n",
            "'will': 1\n",
            "'be': 1\n",
            "'used': 1\n",
            "'to': 1\n",
            "'demonstrate': 1\n",
            "'the': 1\n",
            "'word': 1\n",
            "'counter.': 1\n"
          ]
        }
      ]
    },
    {
      "cell_type": "code",
      "metadata": {
        "colab": {
          "base_uri": "https://localhost:8080/"
        },
        "id": "f0ec499c",
        "outputId": "6cda1caf-b347-403f-8266-4b61472ad38e"
      },
      "source": [
        "import re\n",
        "\n",
        "def is_palindrome(text):\n",
        "  \"\"\"\n",
        "  Checks if a string is a palindrome, ignoring spaces, punctuation, and capitalization.\n",
        "  \"\"\"\n",
        "  # Remove non-alphanumeric characters and convert to lowercase\n",
        "  cleaned_text = re.sub(r'[^a-zA-Z0-9]', '', text).lower()\n",
        "\n",
        "  # Check if the cleaned text is equal to its reverse\n",
        "  return cleaned_text == cleaned_text[::-1]\n",
        "\n",
        "# Example usage:\n",
        "input_string = \"racecar\"\n",
        "if is_palindrome(input_string):\n",
        "  print(f\"'{input_string}' is a palindrome.\")\n",
        "else:\n",
        "  print(f\"'{input_string}' is not a palindrome.\")\n",
        "\n",
        "input_string_2 = \"A man, a plan, a canal: Panama\"\n",
        "if is_palindrome(input_string_2):\n",
        "  print(f\"'{input_string_2}' is a palindrome.\")\n",
        "else:\n",
        "  print(f\"'{input_string_2}' is not a palindrome.\")\n",
        "\n",
        "input_string_3 = \"hi\"\n",
        "if is_palindrome(input_string_3):\n",
        "  print(f\"'{input_string_3}' is a palindrome.\")\n",
        "else:\n",
        "  print(f\"'{input_string_3}' is not a palindrome.\")"
      ],
      "execution_count": 15,
      "outputs": [
        {
          "output_type": "stream",
          "name": "stdout",
          "text": [
            "'racecar' is a palindrome.\n",
            "'A man, a plan, a canal: Panama' is a palindrome.\n",
            "'hi' is not a palindrome.\n"
          ]
        }
      ]
    },
    {
      "cell_type": "code",
      "source": [],
      "metadata": {
        "id": "YWyRMmK9VgOr"
      },
      "execution_count": null,
      "outputs": []
    }
  ]
}